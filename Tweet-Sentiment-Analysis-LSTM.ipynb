{
 "cells": [
  {
   "cell_type": "markdown",
   "id": "22796d1e-d91c-466e-8ccf-6a74715bd2d0",
   "metadata": {},
   "source": [
    "# Sentiment Analysis with LSTMs using Keras\n",
    "## Deep Learning (18CSE484T) Group Project\n",
    "\n",
    "### Group Members:\n",
    "\n",
    "- Bhavesh Laddagiri (RA1911026030032)\n",
    "- Akshaj Vishwanathan (RA1911026030003)\n",
    "- Hardik Gupta (RA1911026030027)"
   ]
  },
  {
   "cell_type": "markdown",
   "id": "996ee203",
   "metadata": {},
   "source": [
    "## Requirements\n",
    "- Tensorflow\n",
    "- HuggingFace Datasets (`pip install datasets`)\n",
    "- Numpy\n",
    "- Pandas"
   ]
  },
  {
   "cell_type": "code",
   "execution_count": 1,
   "id": "34d89114-1638-4484-bd31-5843bfade966",
   "metadata": {
    "scrolled": true,
    "tags": []
   },
   "outputs": [
    {
     "name": "stdout",
     "output_type": "stream",
     "text": [
      "Collecting datasets\n",
      "  Downloading datasets-1.18.4-py3-none-any.whl (312 kB)\n",
      "\u001b[K     |████████████████████████████████| 312 kB 29.5 MB/s eta 0:00:01\n",
      "\u001b[?25hCollecting numpy==1.19.5\n",
      "  Downloading numpy-1.19.5-cp38-cp38-manylinux2010_x86_64.whl (14.9 MB)\n",
      "\u001b[K     |████████████████████████████████| 14.9 MB 4.4 MB/s eta 0:00:01\n",
      "\u001b[?25hRequirement already satisfied: packaging in /home/ubuntu/anaconda3/envs/tensorflow/lib/python3.8/site-packages (from datasets) (20.9)\n",
      "Requirement already satisfied: requests>=2.19.0 in /home/ubuntu/anaconda3/envs/tensorflow/lib/python3.8/site-packages (from datasets) (2.25.1)\n",
      "Collecting pyarrow!=4.0.0,>=3.0.0\n",
      "  Downloading pyarrow-7.0.0-cp38-cp38-manylinux_2_17_x86_64.manylinux2014_x86_64.whl (26.7 MB)\n",
      "\u001b[K     |████████████████████████████████| 26.7 MB 73.6 MB/s eta 0:00:01\n",
      "\u001b[?25hCollecting responses<0.19\n",
      "  Downloading responses-0.18.0-py3-none-any.whl (38 kB)\n",
      "Collecting aiohttp\n",
      "  Downloading aiohttp-3.8.1-cp38-cp38-manylinux_2_5_x86_64.manylinux1_x86_64.manylinux_2_12_x86_64.manylinux2010_x86_64.whl (1.3 MB)\n",
      "\u001b[K     |████████████████████████████████| 1.3 MB 72.2 MB/s eta 0:00:01\n",
      "\u001b[?25hRequirement already satisfied: pandas in /home/ubuntu/anaconda3/envs/tensorflow/lib/python3.8/site-packages (from datasets) (1.2.4)\n",
      "Collecting tqdm>=4.62.1\n",
      "  Downloading tqdm-4.63.0-py2.py3-none-any.whl (76 kB)\n",
      "\u001b[K     |████████████████████████████████| 76 kB 6.3 MB/s  eta 0:00:01\n",
      "\u001b[?25hCollecting fsspec[http]>=2021.05.0\n",
      "  Downloading fsspec-2022.2.0-py3-none-any.whl (134 kB)\n",
      "\u001b[K     |████████████████████████████████| 134 kB 72.8 MB/s eta 0:00:01\n",
      "\u001b[?25hCollecting dill\n",
      "  Downloading dill-0.3.4-py2.py3-none-any.whl (86 kB)\n",
      "\u001b[K     |████████████████████████████████| 86 kB 8.6 MB/s  eta 0:00:01\n",
      "\u001b[?25hCollecting xxhash\n",
      "  Downloading xxhash-3.0.0-cp38-cp38-manylinux_2_17_x86_64.manylinux2014_x86_64.whl (212 kB)\n",
      "\u001b[K     |████████████████████████████████| 212 kB 77.1 MB/s eta 0:00:01\n",
      "\u001b[?25hCollecting multiprocess\n",
      "  Downloading multiprocess-0.70.12.2-py38-none-any.whl (128 kB)\n",
      "\u001b[K     |████████████████████████████████| 128 kB 94.4 MB/s eta 0:00:01\n",
      "\u001b[?25hCollecting huggingface-hub<1.0.0,>=0.1.0\n",
      "  Downloading huggingface_hub-0.4.0-py3-none-any.whl (67 kB)\n",
      "\u001b[K     |████████████████████████████████| 67 kB 462 kB/s  eta 0:00:01\n",
      "\u001b[?25hRequirement already satisfied: filelock in /home/ubuntu/anaconda3/envs/tensorflow/lib/python3.8/site-packages (from huggingface-hub<1.0.0,>=0.1.0->datasets) (3.0.12)\n",
      "Requirement already satisfied: typing-extensions>=3.7.4.3 in /home/ubuntu/anaconda3/envs/tensorflow/lib/python3.8/site-packages (from huggingface-hub<1.0.0,>=0.1.0->datasets) (3.7.4.3)\n",
      "Requirement already satisfied: pyyaml in /home/ubuntu/anaconda3/envs/tensorflow/lib/python3.8/site-packages (from huggingface-hub<1.0.0,>=0.1.0->datasets) (5.4.1)\n",
      "Requirement already satisfied: pyparsing>=2.0.2 in /home/ubuntu/anaconda3/envs/tensorflow/lib/python3.8/site-packages (from packaging->datasets) (2.4.7)\n",
      "Requirement already satisfied: urllib3<1.27,>=1.21.1 in /home/ubuntu/anaconda3/envs/tensorflow/lib/python3.8/site-packages (from requests>=2.19.0->datasets) (1.26.4)\n",
      "Requirement already satisfied: chardet<5,>=3.0.2 in /home/ubuntu/anaconda3/envs/tensorflow/lib/python3.8/site-packages (from requests>=2.19.0->datasets) (4.0.0)\n",
      "Requirement already satisfied: certifi>=2017.4.17 in /home/ubuntu/anaconda3/envs/tensorflow/lib/python3.8/site-packages (from requests>=2.19.0->datasets) (2021.5.30)\n",
      "Requirement already satisfied: idna<3,>=2.5 in /home/ubuntu/anaconda3/envs/tensorflow/lib/python3.8/site-packages (from requests>=2.19.0->datasets) (2.10)\n",
      "Collecting multidict<7.0,>=4.5\n",
      "  Downloading multidict-6.0.2-cp38-cp38-manylinux_2_17_x86_64.manylinux2014_x86_64.whl (121 kB)\n",
      "\u001b[K     |████████████████████████████████| 121 kB 76.9 MB/s eta 0:00:01\n",
      "\u001b[?25hCollecting aiosignal>=1.1.2\n",
      "  Downloading aiosignal-1.2.0-py3-none-any.whl (8.2 kB)\n",
      "Collecting charset-normalizer<3.0,>=2.0\n",
      "  Downloading charset_normalizer-2.0.12-py3-none-any.whl (39 kB)\n",
      "Collecting yarl<2.0,>=1.0\n",
      "  Downloading yarl-1.7.2-cp38-cp38-manylinux_2_5_x86_64.manylinux1_x86_64.manylinux_2_12_x86_64.manylinux2010_x86_64.whl (308 kB)\n",
      "\u001b[K     |████████████████████████████████| 308 kB 29.1 MB/s eta 0:00:01\n",
      "\u001b[?25hRequirement already satisfied: attrs>=17.3.0 in /home/ubuntu/anaconda3/envs/tensorflow/lib/python3.8/site-packages (from aiohttp->datasets) (20.3.0)\n",
      "Collecting frozenlist>=1.1.1\n",
      "  Downloading frozenlist-1.3.0-cp38-cp38-manylinux_2_5_x86_64.manylinux1_x86_64.manylinux_2_17_x86_64.manylinux2014_x86_64.whl (158 kB)\n",
      "\u001b[K     |████████████████████████████████| 158 kB 67.6 MB/s eta 0:00:01\n",
      "\u001b[?25hCollecting async-timeout<5.0,>=4.0.0a3\n",
      "  Downloading async_timeout-4.0.2-py3-none-any.whl (5.8 kB)\n",
      "Requirement already satisfied: python-dateutil>=2.7.3 in /home/ubuntu/anaconda3/envs/tensorflow/lib/python3.8/site-packages (from pandas->datasets) (2.8.1)\n",
      "Requirement already satisfied: pytz>=2017.3 in /home/ubuntu/anaconda3/envs/tensorflow/lib/python3.8/site-packages (from pandas->datasets) (2021.1)\n",
      "Requirement already satisfied: six>=1.5 in /home/ubuntu/anaconda3/envs/tensorflow/lib/python3.8/site-packages (from python-dateutil>=2.7.3->pandas->datasets) (1.15.0)\n",
      "Installing collected packages: multidict, frozenlist, yarl, charset-normalizer, async-timeout, aiosignal, tqdm, numpy, fsspec, dill, aiohttp, xxhash, responses, pyarrow, multiprocess, huggingface-hub, datasets\n",
      "  Attempting uninstall: tqdm\n",
      "    Found existing installation: tqdm 4.59.0\n",
      "    Uninstalling tqdm-4.59.0:\n",
      "      Successfully uninstalled tqdm-4.59.0\n",
      "  Attempting uninstall: numpy\n",
      "    Found existing installation: numpy 1.20.1\n",
      "    Uninstalling numpy-1.20.1:\n",
      "      Successfully uninstalled numpy-1.20.1\n",
      "  Attempting uninstall: fsspec\n",
      "    Found existing installation: fsspec 0.9.0\n",
      "    Uninstalling fsspec-0.9.0:\n",
      "      Successfully uninstalled fsspec-0.9.0\n",
      "\u001b[31mERROR: pip's dependency resolver does not currently take into account all the packages that are installed. This behaviour is the source of the following dependency conflicts.\n",
      "tensorflow 2.4.1 requires flatbuffers~=1.12.0, but you have flatbuffers 20210226132247 which is incompatible.\n",
      "tensorflow 2.4.1 requires gast==0.3.3, but you have gast 0.4.0 which is incompatible.\n",
      "tensorflow 2.4.1 requires grpcio~=1.32.0, but you have grpcio 1.36.1 which is incompatible.\n",
      "tensorflow 2.4.1 requires tensorflow-estimator<2.5.0,>=2.4.0, but you have tensorflow-estimator 2.5.0 which is incompatible.\u001b[0m\n",
      "Successfully installed aiohttp-3.8.1 aiosignal-1.2.0 async-timeout-4.0.2 charset-normalizer-2.0.12 datasets-1.18.4 dill-0.3.4 frozenlist-1.3.0 fsspec-2022.2.0 huggingface-hub-0.4.0 multidict-6.0.2 multiprocess-0.70.12.2 numpy-1.19.5 pyarrow-7.0.0 responses-0.18.0 tqdm-4.63.0 xxhash-3.0.0 yarl-1.7.2\n",
      "Note: you may need to restart the kernel to use updated packages.\n"
     ]
    }
   ],
   "source": [
    "pip install datasets numpy==1.19.5"
   ]
  },
  {
   "cell_type": "code",
   "execution_count": 20,
   "id": "0f25e894-d2da-4835-9983-b8625423b776",
   "metadata": {},
   "outputs": [],
   "source": [
    "import numpy as np\n",
    "import pandas as pd\n",
    "from datasets import Dataset\n",
    "import matplotlib.pyplot as plt\n",
    "\n",
    "import tensorflow as tf\n",
    "from tensorflow import keras\n",
    "from tensorflow.keras.preprocessing.text import Tokenizer\n",
    "from tensorflow.keras.preprocessing.sequence import pad_sequences"
   ]
  },
  {
   "cell_type": "markdown",
   "id": "9dbb3358-555b-419b-b0ff-ab42b376adc6",
   "metadata": {},
   "source": [
    "## Dataset\n",
    "\n",
    "Sentiment140 Dataset https://www.kaggle.com/kazanova/sentiment140"
   ]
  },
  {
   "cell_type": "code",
   "execution_count": 14,
   "id": "530247f3-2a44-4774-84f7-8d08a4649b8b",
   "metadata": {},
   "outputs": [],
   "source": [
    "full_dataset = pd.read_csv('data/training.1600000.processed.noemoticon.csv', \n",
    "                           encoding=\"ISO-8859-1\", \n",
    "                           names=[\"sentiment\", \"ids\", \"date\", \"flag\", \"user\", \"text\"])"
   ]
  },
  {
   "cell_type": "code",
   "execution_count": 15,
   "id": "62cda53b-7110-447e-87a1-b8ee85a52628",
   "metadata": {},
   "outputs": [],
   "source": [
    "dataset = Dataset.from_pandas(full_dataset[['sentiment', 'text']])"
   ]
  },
  {
   "cell_type": "code",
   "execution_count": 16,
   "id": "52e79fe8-3b70-453b-a123-3561ee9bc9d2",
   "metadata": {},
   "outputs": [
    {
     "data": {
      "text/plain": [
       "Dataset({\n",
       "    features: ['sentiment', 'text'],\n",
       "    num_rows: 1600000\n",
       "})"
      ]
     },
     "execution_count": 16,
     "metadata": {},
     "output_type": "execute_result"
    }
   ],
   "source": [
    "dataset"
   ]
  },
  {
   "cell_type": "code",
   "execution_count": 17,
   "id": "1c1b4900-98a2-4a51-ba5f-bd48eaa232dc",
   "metadata": {},
   "outputs": [
    {
     "data": {
      "application/vnd.jupyter.widget-view+json": {
       "model_id": "baa94b02121242e1b9d40baeddc405e4",
       "version_major": 2,
       "version_minor": 0
      },
      "text/plain": [
       "  0%|          | 0/1600 [00:00<?, ?ba/s]"
      ]
     },
     "metadata": {},
     "output_type": "display_data"
    }
   ],
   "source": [
    "def fix_labels(row):\n",
    "    '''Convert (0 = negative, 4 = positive) to (0, 1) respectively'''\n",
    "    row['sentiment'] = [0 if s == 0 else 1 for s in row['sentiment']]\n",
    "    return row\n",
    "\n",
    "dataset = dataset.map(fix_labels, batched=True)"
   ]
  },
  {
   "cell_type": "code",
   "execution_count": 18,
   "id": "3f93d956-6141-43fd-9c32-8a2dce456805",
   "metadata": {},
   "outputs": [],
   "source": [
    "# Check lengths of text\n",
    "text_lengths = list(map(lambda x: len(x.split()), dataset['text']))"
   ]
  },
  {
   "cell_type": "code",
   "execution_count": 21,
   "id": "4087a533-51b1-4b89-8b20-067601286af5",
   "metadata": {},
   "outputs": [
    {
     "data": {
      "image/png": "[encoded data removed]",
      "text/plain": [
       "<Figure size 432x288 with 1 Axes>"
      ]
     },
     "metadata": {
      "needs_background": "light"
     },
     "output_type": "display_data"
    }
   ],
   "source": [
    "plt.hist(text_lengths)\n",
    "plt.show()"
   ]
  },
  {
   "cell_type": "code",
   "execution_count": 22,
   "id": "fafba1d4-cdd3-46ca-bb9c-3294d9d32d22",
   "metadata": {},
   "outputs": [
    {
     "name": "stdout",
     "output_type": "stream",
     "text": [
      "Mean Num Words in Texts: 13.176150625\n",
      "Median Num Words in Texts: 12.0\n",
      "Max Num Words in Texts: 64\n",
      "Min Num Words in Texts: 1\n"
     ]
    }
   ],
   "source": [
    "print('Mean Num Words in Texts:', np.mean(text_lengths))\n",
    "print('Median Num Words in Texts:', np.median(text_lengths))\n",
    "print('Max Num Words in Texts:', np.max(text_lengths))\n",
    "print('Min Num Words in Texts:', np.min(text_lengths))"
   ]
  },
  {
   "cell_type": "code",
   "execution_count": 23,
   "id": "6a386494-9553-42ef-b064-fdc691e2e87f",
   "metadata": {},
   "outputs": [],
   "source": [
    "dataset_splits = dataset.train_test_split(test_size=0.5, seed=10)\n",
    "train_data = dataset_splits['train'].to_pandas()\n",
    "test_data = dataset_splits['test'].to_pandas()"
   ]
  },
  {
   "cell_type": "code",
   "execution_count": 24,
   "id": "d9d0574b-d488-4a37-b1f1-1efea86d1425",
   "metadata": {},
   "outputs": [
    {
     "data": {
      "text/plain": [
       "<AxesSubplot:>"
      ]
     },
     "execution_count": 24,
     "metadata": {},
     "output_type": "execute_result"
    },
    {
     "data": {
      "image/png": "[encoded data removed]",
      "text/plain": [
       "<Figure size 432x288 with 1 Axes>"
      ]
     },
     "metadata": {
      "needs_background": "light"
     },
     "output_type": "display_data"
    }
   ],
   "source": [
    "# Check the balance of labels\n",
    "train_data['sentiment'].hist()"
   ]
  },
  {
   "cell_type": "code",
   "execution_count": 25,
   "id": "c58430e8",
   "metadata": {},
   "outputs": [],
   "source": [
    "vocab_size = 100000\n",
    "maxlen = 40"
   ]
  },
  {
   "cell_type": "code",
   "execution_count": 26,
   "id": "1c8d9c61",
   "metadata": {},
   "outputs": [],
   "source": [
    "# Create a tokenizer\n",
    "tokenizer = Tokenizer(num_words=vocab_size, oov_token='<UNK>')"
   ]
  },
  {
   "cell_type": "code",
   "execution_count": 27,
   "id": "cf711bc0",
   "metadata": {},
   "outputs": [],
   "source": [
    "# Fit the tokenizer to the training data\n",
    "tokenizer.fit_on_texts(train_data['text'])"
   ]
  },
  {
   "cell_type": "code",
   "execution_count": 28,
   "id": "5c19794a-fc3c-4d47-8066-6c50a8599657",
   "metadata": {
    "scrolled": true,
    "tags": []
   },
   "outputs": [],
   "source": [
    "# Get the vocabulary dictionary\n",
    "vocab = tokenizer.word_index"
   ]
  },
  {
   "cell_type": "code",
   "execution_count": 29,
   "id": "20b5cf14-3638-434b-9f9d-62a91bb34b7f",
   "metadata": {},
   "outputs": [],
   "source": [
    "def preprocess_text(texts, tokenizer, maxlen):\n",
    "    '''Preprocess a list of text sequences'''\n",
    "    # convert string to sequence of integers based on vocab\n",
    "    sequences = tokenizer.texts_to_sequences(texts)\n",
    "    \n",
    "    # pad sequences to fixed length\n",
    "    padded = pad_sequences(sequences, maxlen=maxlen, truncating='post', padding='post')\n",
    "    \n",
    "    return padded"
   ]
  },
  {
   "cell_type": "code",
   "execution_count": 30,
   "id": "b83dcddf-1ce1-471b-9108-b257dece5792",
   "metadata": {},
   "outputs": [],
   "source": [
    "X_train = preprocess_text(train_data['text'], tokenizer, maxlen)\n",
    "X_test = preprocess_text(test_data['text'], tokenizer, maxlen)"
   ]
  },
  {
   "cell_type": "code",
   "execution_count": 31,
   "id": "ca8e9c67-d816-479c-99d0-f0ae122158fc",
   "metadata": {},
   "outputs": [
    {
     "data": {
      "text/plain": [
       "(800000, 40)"
      ]
     },
     "execution_count": 31,
     "metadata": {},
     "output_type": "execute_result"
    }
   ],
   "source": [
    "X_train.shape"
   ]
  },
  {
   "cell_type": "code",
   "execution_count": 32,
   "id": "9d7c2206-ed41-43c1-bfc4-6bc93afda963",
   "metadata": {},
   "outputs": [
    {
     "data": {
      "text/plain": [
       "(800000, 40)"
      ]
     },
     "execution_count": 32,
     "metadata": {},
     "output_type": "execute_result"
    }
   ],
   "source": [
    "X_test.shape"
   ]
  },
  {
   "cell_type": "code",
   "execution_count": 33,
   "id": "901fdcaf-840d-47a3-bf9b-cb2d3f42d7d0",
   "metadata": {},
   "outputs": [],
   "source": [
    "y_train = train_data['sentiment'].values\n",
    "y_test = test_data['sentiment'].values"
   ]
  },
  {
   "cell_type": "code",
   "execution_count": 34,
   "id": "c595e461-ce90-4ba6-84d8-8df7e16c6c60",
   "metadata": {},
   "outputs": [
    {
     "data": {
      "text/plain": [
       "(800000,)"
      ]
     },
     "execution_count": 34,
     "metadata": {},
     "output_type": "execute_result"
    }
   ],
   "source": [
    "y_train.shape"
   ]
  },
  {
   "cell_type": "code",
   "execution_count": 35,
   "id": "b7e71289-a69d-4065-97fc-0d94226d1e1b",
   "metadata": {},
   "outputs": [
    {
     "data": {
      "text/plain": [
       "(800000,)"
      ]
     },
     "execution_count": 35,
     "metadata": {},
     "output_type": "execute_result"
    }
   ],
   "source": [
    "y_test.shape"
   ]
  },
  {
   "cell_type": "markdown",
   "id": "8560983d-8a8c-4f18-b0ed-b6d6d4e03bc2",
   "metadata": {},
   "source": [
    "## Build Model"
   ]
  },
  {
   "cell_type": "code",
   "execution_count": 36,
   "id": "b9c68199-9e87-4501-b4d7-9f0a06f7ef05",
   "metadata": {},
   "outputs": [],
   "source": [
    "embedding_dim = 64"
   ]
  },
  {
   "cell_type": "code",
   "execution_count": 45,
   "id": "41d7187f",
   "metadata": {
    "scrolled": true,
    "tags": []
   },
   "outputs": [],
   "source": [
    "model = tf.keras.Sequential([\n",
    "    tf.keras.layers.Embedding(vocab_size, embedding_dim, input_length=maxlen),\n",
    "    tf.keras.layers.LSTM(32),\n",
    "    tf.keras.layers.Dense(16, activation='relu'),\n",
    "    tf.keras.layers.Dense(1, activation='sigmoid')\n",
    "])"
   ]
  },
  {
   "cell_type": "code",
   "execution_count": 46,
   "id": "38a95c2f-9c48-4574-9f2f-b03ce888889a",
   "metadata": {},
   "outputs": [],
   "source": [
    "model.compile(loss='binary_crossentropy', \n",
    "              optimizer=keras.optimizers.Adam(learning_rate=0.0008), \n",
    "              metrics=['accuracy'])"
   ]
  },
  {
   "cell_type": "code",
   "execution_count": 47,
   "id": "dfa2831c-6966-4d20-bfde-d32af2207f05",
   "metadata": {},
   "outputs": [
    {
     "name": "stdout",
     "output_type": "stream",
     "text": [
      "Model: \"sequential_1\"\n",
      "_________________________________________________________________\n",
      "Layer (type)                 Output Shape              Param #   \n",
      "=================================================================\n",
      "embedding_1 (Embedding)      (None, 40, 64)            6400000   \n",
      "_________________________________________________________________\n",
      "lstm_1 (LSTM)                (None, 32)                12416     \n",
      "_________________________________________________________________\n",
      "dense_2 (Dense)              (None, 16)                528       \n",
      "_________________________________________________________________\n",
      "dense_3 (Dense)              (None, 1)                 17        \n",
      "=================================================================\n",
      "Total params: 6,412,961\n",
      "Trainable params: 6,412,961\n",
      "Non-trainable params: 0\n",
      "_________________________________________________________________\n"
     ]
    }
   ],
   "source": [
    "model.summary()"
   ]
  },
  {
   "cell_type": "markdown",
   "id": "cb41a6a1-c080-43f4-9d05-44f46af00934",
   "metadata": {},
   "source": [
    "## Train Model"
   ]
  },
  {
   "cell_type": "code",
   "execution_count": 48,
   "id": "0ef09822",
   "metadata": {},
   "outputs": [],
   "source": [
    "num_epochs = 2\n",
    "batch_size = 256"
   ]
  },
  {
   "cell_type": "code",
   "execution_count": 49,
   "id": "7d5509ed-ced6-48d5-93b0-63b8c0210bc3",
   "metadata": {
    "scrolled": true,
    "tags": []
   },
   "outputs": [
    {
     "name": "stdout",
     "output_type": "stream",
     "text": [
      "Epoch 1/2\n",
      "3125/3125 [==============================] - 120s 38ms/step - loss: 0.4895 - accuracy: 0.7467 - val_loss: 0.4035 - val_accuracy: 0.8162\n",
      "Epoch 2/2\n",
      "3125/3125 [==============================] - 114s 36ms/step - loss: 0.3670 - accuracy: 0.8355 - val_loss: 0.4021 - val_accuracy: 0.8198\n"
     ]
    }
   ],
   "source": [
    "history = model.fit(\n",
    "    X_train, \n",
    "    y_train, \n",
    "    batch_size=batch_size, \n",
    "    epochs=num_epochs, \n",
    "    validation_data=(X_test, y_test),\n",
    ")"
   ]
  },
  {
   "cell_type": "code",
   "execution_count": 50,
   "id": "7a9db024-5688-482c-8b2d-3bf30bc889dc",
   "metadata": {},
   "outputs": [],
   "source": [
    "# save model\n",
    "model.save('model-twitter.h5')"
   ]
  },
  {
   "cell_type": "code",
   "execution_count": 51,
   "id": "e335ec55-6d01-48f4-9ff4-3ee67e0f16bd",
   "metadata": {},
   "outputs": [],
   "source": [
    "# save tokenizer\n",
    "with open('tokenizer-twitter.json', 'w') as f:\n",
    "    f.write(tokenizer.to_json())"
   ]
  },
  {
   "cell_type": "markdown",
   "id": "6a1e09c6-001e-4621-a584-1ab2b558e5fd",
   "metadata": {
    "tags": []
   },
   "source": [
    "## Inference"
   ]
  },
  {
   "cell_type": "code",
   "execution_count": 52,
   "id": "26270f3c",
   "metadata": {},
   "outputs": [],
   "source": [
    "# load model and tokenizer\n",
    "model = keras.models.load_model('model-twitter.h5')\n",
    "\n",
    "with open('tokenizer-twitter.json', 'r') as f:\n",
    "    tokenizer = keras.preprocessing.text.tokenizer_from_json(f.read())"
   ]
  },
  {
   "cell_type": "code",
   "execution_count": 53,
   "id": "017cf768-11f3-4b3f-a53c-d3b11aa5de49",
   "metadata": {},
   "outputs": [],
   "source": [
    "sample_text = \"CellStrat Hub is such a cool deployment platform.\""
   ]
  },
  {
   "cell_type": "code",
   "execution_count": 54,
   "id": "f7e41ecd-e398-408f-9f12-35f4dec3fd1b",
   "metadata": {},
   "outputs": [],
   "source": [
    "seq = preprocess_text([sample_text], tokenizer, maxlen)"
   ]
  },
  {
   "cell_type": "code",
   "execution_count": 55,
   "id": "30144839-ddda-4416-bf84-defc87ef80eb",
   "metadata": {},
   "outputs": [
    {
     "data": {
      "text/plain": [
       "array([[0.96188724]], dtype=float32)"
      ]
     },
     "execution_count": 55,
     "metadata": {},
     "output_type": "execute_result"
    }
   ],
   "source": [
    "model.predict(seq)"
   ]
  },
  {
   "cell_type": "code",
   "execution_count": null,
   "id": "cfa3d6d9-c301-4b8c-8927-87ea7ce257d6",
   "metadata": {},
   "outputs": [],
   "source": []
  }
 ],
 "metadata": {
  "interpreter": {
   "hash": "60fbf1aecf0122793952a73a80d27bc8732eff9e143c13520ca117508929b1c7"
  },
  "kernelspec": {
   "display_name": "Tensorflow 2.4",
   "language": "python",
   "name": "tensorflow"
  },
  "language_info": {
   "codemirror_mode": {
    "name": "ipython",
    "version": 3
   },
   "file_extension": ".py",
   "mimetype": "text/x-python",
   "name": "python",
   "nbconvert_exporter": "python",
   "pygments_lexer": "ipython3",
   "version": "3.8.8"
  },
  "widgets": {
   "application/vnd.jupyter.widget-state+json": {
    "state": {
     "0ce7e3df71684a62ae4319725b4ac862": {
      "model_module": "@jupyter-widgets/base",
      "model_module_version": "1.2.0",
      "model_name": "LayoutModel",
      "state": {}
     },
     "1c0d0637f3734b80913147f53d871442": {
      "model_module": "@jupyter-widgets/controls",
      "model_module_version": "1.5.0",
      "model_name": "FloatProgressModel",
      "state": {
       "bar_style": "success",
       "layout": "IPY_MODEL_50bcdfbe0e6f4bb3a0b3ee3de055797a",
       "max": 1600,
       "style": "IPY_MODEL_e7134f719cac44f89431df7ed23c1742",
       "value": 1600
      }
     },
     "1ccd37fdd8074ec4b763c7cb3262790b": {
      "model_module": "@jupyter-widgets/controls",
      "model_module_version": "1.5.0",
      "model_name": "DescriptionStyleModel",
      "state": {
       "description_width": ""
      }
     },
     "1e92ea6044314862ab853bc2ba210d50": {
      "model_module": "@jupyter-widgets/base",
      "model_module_version": "1.2.0",
      "model_name": "LayoutModel",
      "state": {}
     },
     "256e5bafd48a4c8580f9dd9a724c7095": {
      "model_module": "@jupyter-widgets/controls",
      "model_module_version": "1.5.0",
      "model_name": "DescriptionStyleModel",
      "state": {
       "description_width": ""
      }
     },
     "281a11f007784d17a2d790d7687417d7": {
      "model_module": "@jupyter-widgets/controls",
      "model_module_version": "1.5.0",
      "model_name": "HTMLModel",
      "state": {
       "layout": "IPY_MODEL_53af459903194c9294fabe860311c2ca",
       "style": "IPY_MODEL_256e5bafd48a4c8580f9dd9a724c7095",
       "value": " 1600/1600 [00:03&lt;00:00, 419.09ba/s]"
      }
     },
     "2a7e1b0b779b4c598780c94584e4b434": {
      "model_module": "@jupyter-widgets/controls",
      "model_module_version": "1.5.0",
      "model_name": "FloatProgressModel",
      "state": {
       "bar_style": "success",
       "layout": "IPY_MODEL_669885988de64b789ceb621fefb5e169",
       "max": 1600,
       "style": "IPY_MODEL_bf0143ede4f54c65af46b9fbba8d0556",
       "value": 1600
      }
     },
     "2b9dd00944cb4c7ab2d50b3e63ac0663": {
      "model_module": "@jupyter-widgets/controls",
      "model_module_version": "1.5.0",
      "model_name": "HTMLModel",
      "state": {
       "layout": "IPY_MODEL_7b951998966e4c86b5169620370d42fa",
       "style": "IPY_MODEL_6595486f81594705a873d18e6214767a",
       "value": " 1600/1600 [00:03&lt;00:00, 532.40ba/s]"
      }
     },
     "3b83cac0d0ef4837ac95b97f2a0504d0": {
      "model_module": "@jupyter-widgets/base",
      "model_module_version": "1.2.0",
      "model_name": "LayoutModel",
      "state": {}
     },
     "50bcdfbe0e6f4bb3a0b3ee3de055797a": {
      "model_module": "@jupyter-widgets/base",
      "model_module_version": "1.2.0",
      "model_name": "LayoutModel",
      "state": {}
     },
     "53af459903194c9294fabe860311c2ca": {
      "model_module": "@jupyter-widgets/base",
      "model_module_version": "1.2.0",
      "model_name": "LayoutModel",
      "state": {}
     },
     "6595486f81594705a873d18e6214767a": {
      "model_module": "@jupyter-widgets/controls",
      "model_module_version": "1.5.0",
      "model_name": "DescriptionStyleModel",
      "state": {
       "description_width": ""
      }
     },
     "669885988de64b789ceb621fefb5e169": {
      "model_module": "@jupyter-widgets/base",
      "model_module_version": "1.2.0",
      "model_name": "LayoutModel",
      "state": {}
     },
     "67984874d7224492afa8aea5e58315f5": {
      "model_module": "@jupyter-widgets/base",
      "model_module_version": "1.2.0",
      "model_name": "LayoutModel",
      "state": {}
     },
     "77f919728ba44a2797550e2c1690742a": {
      "model_module": "@jupyter-widgets/controls",
      "model_module_version": "1.5.0",
      "model_name": "HTMLModel",
      "state": {
       "layout": "IPY_MODEL_1e92ea6044314862ab853bc2ba210d50",
       "style": "IPY_MODEL_c4982afeea7243a29f318d403ea5171f",
       "value": "100%"
      }
     },
     "7b951998966e4c86b5169620370d42fa": {
      "model_module": "@jupyter-widgets/base",
      "model_module_version": "1.2.0",
      "model_name": "LayoutModel",
      "state": {}
     },
     "811ec8944f25447abc372b7bf5d09dab": {
      "model_module": "@jupyter-widgets/controls",
      "model_module_version": "1.5.0",
      "model_name": "HTMLModel",
      "state": {
       "layout": "IPY_MODEL_3b83cac0d0ef4837ac95b97f2a0504d0",
       "style": "IPY_MODEL_1ccd37fdd8074ec4b763c7cb3262790b",
       "value": "100%"
      }
     },
     "ae9022d89cbd4bce9b8569984d34a8d5": {
      "model_module": "@jupyter-widgets/controls",
      "model_module_version": "1.5.0",
      "model_name": "HBoxModel",
      "state": {
       "children": [
        "IPY_MODEL_811ec8944f25447abc372b7bf5d09dab",
        "IPY_MODEL_2a7e1b0b779b4c598780c94584e4b434",
        "IPY_MODEL_281a11f007784d17a2d790d7687417d7"
       ],
       "layout": "IPY_MODEL_67984874d7224492afa8aea5e58315f5"
      }
     },
     "baa94b02121242e1b9d40baeddc405e4": {
      "model_module": "@jupyter-widgets/controls",
      "model_module_version": "1.5.0",
      "model_name": "HBoxModel",
      "state": {
       "children": [
        "IPY_MODEL_77f919728ba44a2797550e2c1690742a",
        "IPY_MODEL_1c0d0637f3734b80913147f53d871442",
        "IPY_MODEL_2b9dd00944cb4c7ab2d50b3e63ac0663"
       ],
       "layout": "IPY_MODEL_0ce7e3df71684a62ae4319725b4ac862"
      }
     },
     "bf0143ede4f54c65af46b9fbba8d0556": {
      "model_module": "@jupyter-widgets/controls",
      "model_module_version": "1.5.0",
      "model_name": "ProgressStyleModel",
      "state": {
       "description_width": ""
      }
     },
     "c4982afeea7243a29f318d403ea5171f": {
      "model_module": "@jupyter-widgets/controls",
      "model_module_version": "1.5.0",
      "model_name": "DescriptionStyleModel",
      "state": {
       "description_width": ""
      }
     },
     "e7134f719cac44f89431df7ed23c1742": {
      "model_module": "@jupyter-widgets/controls",
      "model_module_version": "1.5.0",
      "model_name": "ProgressStyleModel",
      "state": {
       "description_width": ""
      }
     }
    },
    "version_major": 2,
    "version_minor": 0
   }
  }
 },
 "nbformat": 4,
 "nbformat_minor": 5
}
