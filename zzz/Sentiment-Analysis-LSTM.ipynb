{
 "cells": [
  {
   "cell_type": "markdown",
   "id": "22796d1e-d91c-466e-8ccf-6a74715bd2d0",
   "metadata": {},
   "source": [
    "# Sentiment Analysis with LSTMs using Keras\n",
    "## Deep Learning (18CSE484T) Group Project\n",
    "\n",
    "### Group Members:\n",
    "\n",
    "- Bhavesh Laddagiri (RA1911026030032)\n",
    "- Akshaj Vishwanathan (RA1911026030003)\n",
    "- Hardik Gupta (RA1911026030027)"
   ]
  },
  {
   "cell_type": "markdown",
   "id": "996ee203",
   "metadata": {},
   "source": [
    "## Requirements\n",
    "- Tensorflow 2\n",
    "- HuggingFace Datasets (`pip install datasets`)\n",
    "- Numpy"
   ]
  },
  {
   "cell_type": "code",
   "execution_count": 1,
   "id": "0f25e894-d2da-4835-9983-b8625423b776",
   "metadata": {},
   "outputs": [],
   "source": [
    "import numpy as np\n",
    "import pandas as pd\n",
    "from datasets import load_dataset\n",
    "import matplotlib.pyplot as plt\n",
    "\n",
    "import tensorflow as tf\n",
    "from tensorflow import keras\n",
    "from tensorflow.keras.preprocessing.text import Tokenizer\n",
    "from tensorflow.keras.preprocessing.sequence import pad_sequences\n",
    "%matplotlib inline"
   ]
  },
  {
   "cell_type": "markdown",
   "id": "9dbb3358-555b-419b-b0ff-ab42b376adc6",
   "metadata": {},
   "source": [
    "## Dataset"
   ]
  },
  {
   "cell_type": "code",
   "execution_count": 2,
   "id": "3ba8161d",
   "metadata": {},
   "outputs": [
    {
     "name": "stderr",
     "output_type": "stream",
     "text": [
      "Reusing dataset imdb (C:\\Users\\bhave\\.cache\\huggingface\\datasets\\imdb\\plain_text\\1.0.0\\2fdd8b9bcadd6e7055e742a706876ba43f19faee861df134affd7a3f60fc38a1)\n"
     ]
    },
    {
     "data": {
      "application/vnd.jupyter.widget-view+json": {
       "model_id": "7f30611443e04a839b9ce30b15def4a7",
       "version_major": 2,
       "version_minor": 0
      },
      "text/plain": [
       "  0%|          | 0/3 [00:00<?, ?it/s]"
      ]
     },
     "metadata": {},
     "output_type": "display_data"
    }
   ],
   "source": [
    "# Download the imdb movie reviews dataset for binary sentiment analysis\n",
    "imdb_dataset = load_dataset(\"imdb\")"
   ]
  },
  {
   "cell_type": "code",
   "execution_count": 3,
   "id": "4d30c21e",
   "metadata": {},
   "outputs": [],
   "source": [
    "train_data = imdb_dataset['train'].to_pandas().sample(25000) # shuffle\n",
    "test_data = imdb_dataset['test'].to_pandas()"
   ]
  },
  {
   "cell_type": "code",
   "execution_count": null,
   "id": "0f324434-5871-46ee-8e85-b731ae44c5f9",
   "metadata": {},
   "outputs": [],
   "source": []
  },
  {
   "cell_type": "code",
   "execution_count": 219,
   "id": "ed7e6bcd-afe8-4659-9424-731ce0f842f7",
   "metadata": {},
   "outputs": [
    {
     "data": {
      "text/plain": [
       "233.7872"
      ]
     },
     "execution_count": 219,
     "metadata": {},
     "output_type": "execute_result"
    }
   ],
   "source": [
    "# check average number of words in text\n",
    "np.mean(list(map(lambda x: len(x.split()), train_data['text'])))"
   ]
  },
  {
   "cell_type": "code",
   "execution_count": 221,
   "id": "31fbb604-2d53-4391-afe8-27290715ee57",
   "metadata": {},
   "outputs": [
    {
     "name": "stdout",
     "output_type": "stream",
     "text": [
      "Train Data: 25000\n",
      "Test Data: 25000\n"
     ]
    }
   ],
   "source": [
    "print(f'Train Data: {len(train_data)}')\n",
    "print(f'Test Data: {len(test_data)}')"
   ]
  },
  {
   "cell_type": "code",
   "execution_count": 249,
   "id": "c58430e8",
   "metadata": {},
   "outputs": [],
   "source": [
    "vocab_size = 40000\n",
    "embedding_dim = 32\n",
    "maxlen = 150"
   ]
  },
  {
   "cell_type": "code",
   "execution_count": 250,
   "id": "1c8d9c61",
   "metadata": {},
   "outputs": [],
   "source": [
    "# Create a tokenizer\n",
    "tokenizer = Tokenizer(num_words=vocab_size, oov_token='<UNK>')"
   ]
  },
  {
   "cell_type": "code",
   "execution_count": 251,
   "id": "cf711bc0",
   "metadata": {},
   "outputs": [],
   "source": [
    "# Fit the tokenizer to the training data\n",
    "tokenizer.fit_on_texts(train_data['text'])"
   ]
  },
  {
   "cell_type": "code",
   "execution_count": 252,
   "id": "5c19794a-fc3c-4d47-8066-6c50a8599657",
   "metadata": {
    "scrolled": true,
    "tags": []
   },
   "outputs": [],
   "source": [
    "# Get the vocabulary dictionary\n",
    "vocab = tokenizer.word_index"
   ]
  },
  {
   "cell_type": "code",
   "execution_count": 253,
   "id": "20b5cf14-3638-434b-9f9d-62a91bb34b7f",
   "metadata": {},
   "outputs": [],
   "source": [
    "def preprocess_text(texts, tokenizer, maxlen):\n",
    "    '''Preprocess a list of text sequences'''\n",
    "    # convert string to sequence of integers based on vocab\n",
    "    sequences = tokenizer.texts_to_sequences(texts)\n",
    "    \n",
    "    # pad sequences to fixed length\n",
    "    padded = pad_sequences(sequences, maxlen=maxlen, truncating='post', padding='post')\n",
    "    \n",
    "    return padded"
   ]
  },
  {
   "cell_type": "code",
   "execution_count": 254,
   "id": "b83dcddf-1ce1-471b-9108-b257dece5792",
   "metadata": {},
   "outputs": [],
   "source": [
    "X_train = preprocess_text(train_data['text'], tokenizer, maxlen)\n",
    "X_test = preprocess_text(test_data['text'], tokenizer, maxlen)"
   ]
  },
  {
   "cell_type": "code",
   "execution_count": 229,
   "id": "ca8e9c67-d816-479c-99d0-f0ae122158fc",
   "metadata": {},
   "outputs": [
    {
     "data": {
      "text/plain": [
       "(25000, 150)"
      ]
     },
     "execution_count": 229,
     "metadata": {},
     "output_type": "execute_result"
    }
   ],
   "source": [
    "X_train.shape"
   ]
  },
  {
   "cell_type": "code",
   "execution_count": 230,
   "id": "9d7c2206-ed41-43c1-bfc4-6bc93afda963",
   "metadata": {},
   "outputs": [
    {
     "data": {
      "text/plain": [
       "(25000, 150)"
      ]
     },
     "execution_count": 230,
     "metadata": {},
     "output_type": "execute_result"
    }
   ],
   "source": [
    "X_test.shape"
   ]
  },
  {
   "cell_type": "code",
   "execution_count": 231,
   "id": "901fdcaf-840d-47a3-bf9b-cb2d3f42d7d0",
   "metadata": {},
   "outputs": [],
   "source": [
    "y_train = train_data['label'].values\n",
    "y_test = test_data['label'].values"
   ]
  },
  {
   "cell_type": "code",
   "execution_count": 232,
   "id": "c595e461-ce90-4ba6-84d8-8df7e16c6c60",
   "metadata": {},
   "outputs": [
    {
     "data": {
      "text/plain": [
       "(25000,)"
      ]
     },
     "execution_count": 232,
     "metadata": {},
     "output_type": "execute_result"
    }
   ],
   "source": [
    "y_train.shape"
   ]
  },
  {
   "cell_type": "code",
   "execution_count": 233,
   "id": "b7e71289-a69d-4065-97fc-0d94226d1e1b",
   "metadata": {},
   "outputs": [
    {
     "data": {
      "text/plain": [
       "(25000,)"
      ]
     },
     "execution_count": 233,
     "metadata": {},
     "output_type": "execute_result"
    }
   ],
   "source": [
    "y_test.shape"
   ]
  },
  {
   "cell_type": "markdown",
   "id": "8560983d-8a8c-4f18-b0ed-b6d6d4e03bc2",
   "metadata": {},
   "source": [
    "## Build Model"
   ]
  },
  {
   "cell_type": "code",
   "execution_count": 234,
   "id": "41d7187f",
   "metadata": {},
   "outputs": [],
   "source": [
    "model = tf.keras.Sequential([\n",
    "    tf.keras.layers.Embedding(vocab_size, embedding_dim, input_length=maxlen),\n",
    "    tf.keras.layers.LSTM(16),\n",
    "    tf.keras.layers.Dense(16, activation='relu'),\n",
    "    tf.keras.layers.Dense(1, activation='sigmoid')\n",
    "])"
   ]
  },
  {
   "cell_type": "code",
   "execution_count": 235,
   "id": "38a95c2f-9c48-4574-9f2f-b03ce888889a",
   "metadata": {},
   "outputs": [],
   "source": [
    "model.compile(loss='binary_crossentropy', \n",
    "              optimizer=keras.optimizers.Adam(learning_rate=0.001), \n",
    "              metrics=['accuracy'])"
   ]
  },
  {
   "cell_type": "code",
   "execution_count": 236,
   "id": "dfa2831c-6966-4d20-bfde-d32af2207f05",
   "metadata": {},
   "outputs": [
    {
     "name": "stdout",
     "output_type": "stream",
     "text": [
      "Model: \"sequential_10\"\n",
      "_________________________________________________________________\n",
      " Layer (type)                Output Shape              Param #   \n",
      "=================================================================\n",
      " embedding_10 (Embedding)    (None, 150, 32)           1280000   \n",
      "                                                                 \n",
      " lstm_10 (LSTM)              (None, 16)                3136      \n",
      "                                                                 \n",
      " dense_19 (Dense)            (None, 16)                272       \n",
      "                                                                 \n",
      " dense_20 (Dense)            (None, 1)                 17        \n",
      "                                                                 \n",
      "=================================================================\n",
      "Total params: 1,283,425\n",
      "Trainable params: 1,283,425\n",
      "Non-trainable params: 0\n",
      "_________________________________________________________________\n"
     ]
    }
   ],
   "source": [
    "model.summary()"
   ]
  },
  {
   "cell_type": "markdown",
   "id": "cb41a6a1-c080-43f4-9d05-44f46af00934",
   "metadata": {},
   "source": [
    "## Train Model"
   ]
  },
  {
   "cell_type": "code",
   "execution_count": 237,
   "id": "0ef09822",
   "metadata": {},
   "outputs": [],
   "source": [
    "num_epochs = 10\n",
    "batch_size = 32"
   ]
  },
  {
   "cell_type": "code",
   "execution_count": 238,
   "id": "7d5509ed-ced6-48d5-93b0-63b8c0210bc3",
   "metadata": {
    "scrolled": true,
    "tags": []
   },
   "outputs": [
    {
     "name": "stdout",
     "output_type": "stream",
     "text": [
      "Epoch 1/10\n",
      "782/782 [==============================] - 33s 40ms/step - loss: 0.5019 - accuracy: 0.7421 - val_loss: 0.4201 - val_accuracy: 0.8219 - lr: 0.0010\n",
      "Epoch 2/10\n",
      "782/782 [==============================] - 30s 39ms/step - loss: 0.2547 - accuracy: 0.9014 - val_loss: 0.4142 - val_accuracy: 0.8246 - lr: 0.0010\n",
      "Epoch 3/10\n",
      "782/782 [==============================] - 31s 40ms/step - loss: 0.1559 - accuracy: 0.9443 - val_loss: 0.5181 - val_accuracy: 0.8230 - lr: 0.0010\n",
      "Epoch 4/10\n",
      "782/782 [==============================] - 32s 41ms/step - loss: 0.0823 - accuracy: 0.9750 - val_loss: 0.5476 - val_accuracy: 0.8156 - lr: 5.0000e-04\n",
      "Epoch 5/10\n",
      "782/782 [==============================] - 32s 41ms/step - loss: 0.0495 - accuracy: 0.9873 - val_loss: 0.6301 - val_accuracy: 0.8205 - lr: 2.5000e-04\n"
     ]
    }
   ],
   "source": [
    "history = model.fit(\n",
    "    X_train, \n",
    "    y_train, \n",
    "    batch_size=batch_size, \n",
    "    epochs=num_epochs, \n",
    "    validation_data=(X_test, y_test),\n",
    "    callbacks=[\n",
    "        keras.callbacks.EarlyStopping(monitor='val_accuracy', patience=3), \n",
    "        keras.callbacks.ReduceLROnPlateau(factor=0.5, patience=1),\n",
    "    ]\n",
    ")"
   ]
  },
  {
   "cell_type": "code",
   "execution_count": 168,
   "id": "056cfc67-f5d3-47dd-900d-abf296b9131b",
   "metadata": {},
   "outputs": [
    {
     "data": {
      "image/png": "[encoded data removed]",
      "text/plain": [
       "<Figure size 432x288 with 1 Axes>"
      ]
     },
     "metadata": {
      "needs_background": "light"
     },
     "output_type": "display_data"
    }
   ],
   "source": [
    "acc = history.history['accuracy']\n",
    "val_acc = history.history['val_accuracy']\n",
    "loss = history.history['loss']\n",
    "val_loss = history.history['val_loss']\n",
    "epochs = list(range(len(acc)))\n",
    "\n",
    "plt.plot(epochs, acc, 'r', label='Train Acc')\n",
    "plt.plot(epochs, val_acc, 'b', label='Val Acc')\n",
    "plt.title('Training and validation accuracy')\n",
    "plt.legend()\n",
    "plt.show()"
   ]
  },
  {
   "cell_type": "code",
   "execution_count": 169,
   "id": "f2717fbd-a916-4d1d-b4d4-f1f14163f4b5",
   "metadata": {},
   "outputs": [
    {
     "data": {
      "image/png": "[encoded data removed]",
      "text/plain": [
       "<Figure size 432x288 with 1 Axes>"
      ]
     },
     "metadata": {
      "needs_background": "light"
     },
     "output_type": "display_data"
    },
    {
     "data": {
      "text/plain": [
       "<Figure size 432x288 with 0 Axes>"
      ]
     },
     "metadata": {},
     "output_type": "display_data"
    }
   ],
   "source": [
    "plt.plot(epochs, loss, 'r', label='Train Loss')\n",
    "plt.plot(epochs, val_loss, 'b', label='Val Loss')\n",
    "plt.title('Training and validation loss')\n",
    "plt.legend()\n",
    "plt.figure()\n",
    "plt.show()"
   ]
  },
  {
   "cell_type": "code",
   "execution_count": 55,
   "id": "7a9db024-5688-482c-8b2d-3bf30bc889dc",
   "metadata": {},
   "outputs": [],
   "source": [
    "# save model\n",
    "model.save('model.h5')"
   ]
  },
  {
   "cell_type": "code",
   "execution_count": 61,
   "id": "e335ec55-6d01-48f4-9ff4-3ee67e0f16bd",
   "metadata": {},
   "outputs": [],
   "source": [
    "# save tokenizer\n",
    "with open('tokenizer.json', 'w') as f:\n",
    "    f.write(tokenizer.to_json())"
   ]
  },
  {
   "cell_type": "markdown",
   "id": "6a1e09c6-001e-4621-a584-1ab2b558e5fd",
   "metadata": {
    "tags": []
   },
   "source": [
    "## Inference"
   ]
  },
  {
   "cell_type": "code",
   "execution_count": 63,
   "id": "26270f3c",
   "metadata": {},
   "outputs": [],
   "source": [
    "# load model and tokenizer\n",
    "model = keras.models.load_model('model.h5')\n",
    "\n",
    "with open('tokenizer.json', 'r') as f:\n",
    "    tokenizer = keras.preprocessing.text.tokenizer_from_json(f.read())"
   ]
  },
  {
   "cell_type": "code",
   "execution_count": 4,
   "id": "4c70f6c4-26f0-46f7-94a1-9dfbdc59f636",
   "metadata": {},
   "outputs": [
    {
     "data": {
      "text/plain": [
       "('I first watched this movie back in the mid/late 80\\'s, when I was a kid. We couldn\\'t even get all the way through it. The dialog, the acting, everything about it was just beyond lame.<br /><br />Here are a few examples... imagine these spoken real dramatically, way over-acted: \"Oreegon? You\\'re going to Oreegon? Why would anyone want to go to Oreegon?\"<br /><br />\"Survivalists? Nobody ever told us about any survivalists!\"<br /><br />This movie was SO bad, my sister and I rented it again for her 16th birthday party, just so our friends could sit around and laugh at how awful it was. I don\\'t think we were able to finish it then either!',\n",
       " 0)"
      ]
     },
     "execution_count": 4,
     "metadata": {},
     "output_type": "execute_result"
    }
   ],
   "source": [
    "sample_text, label = test_data.iloc[12, :]\n",
    "sample_text, label"
   ]
  },
  {
   "cell_type": "code",
   "execution_count": 261,
   "id": "017cf768-11f3-4b3f-a53c-d3b11aa5de49",
   "metadata": {},
   "outputs": [],
   "source": [
    "sample_text = \"\"\"I have been using CellStrat Workspace for a while now and its bad\"\"\""
   ]
  },
  {
   "cell_type": "code",
   "execution_count": 262,
   "id": "f7e41ecd-e398-408f-9f12-35f4dec3fd1b",
   "metadata": {},
   "outputs": [
    {
     "data": {
      "text/plain": [
       "(1, 150)"
      ]
     },
     "execution_count": 262,
     "metadata": {},
     "output_type": "execute_result"
    }
   ],
   "source": [
    "seq = preprocess_text([sample_text], tokenizer, 150)\n",
    "seq.shape"
   ]
  },
  {
   "cell_type": "code",
   "execution_count": 263,
   "id": "30144839-ddda-4416-bf84-defc87ef80eb",
   "metadata": {},
   "outputs": [
    {
     "data": {
      "text/plain": [
       "array([[0.14135155]], dtype=float32)"
      ]
     },
     "execution_count": 263,
     "metadata": {},
     "output_type": "execute_result"
    }
   ],
   "source": [
    "model.predict(seq)"
   ]
  },
  {
   "cell_type": "code",
   "execution_count": null,
   "id": "011ed516-719c-4ab1-911b-b5ae476571bf",
   "metadata": {},
   "outputs": [],
   "source": []
  }
 ],
 "metadata": {
  "interpreter": {
   "hash": "60fbf1aecf0122793952a73a80d27bc8732eff9e143c13520ca117508929b1c7"
  },
  "kernelspec": {
   "display_name": "Tensorflow",
   "language": "python",
   "name": "tf"
  },
  "language_info": {
   "codemirror_mode": {
    "name": "ipython",
    "version": 3
   },
   "file_extension": ".py",
   "mimetype": "text/x-python",
   "name": "python",
   "nbconvert_exporter": "python",
   "pygments_lexer": "ipython3",
   "version": "3.8.10"
  },
  "widgets": {
   "application/vnd.jupyter.widget-state+json": {
    "state": {
     "2217c2ef4fdd43e580079068f0dcec5a": {
      "model_module": "@jupyter-widgets/base",
      "model_module_version": "1.2.0",
      "model_name": "LayoutModel",
      "state": {}
     },
     "2910168aaff94864b52469a7758bbb69": {
      "model_module": "@jupyter-widgets/base",
      "model_module_version": "1.2.0",
      "model_name": "LayoutModel",
      "state": {}
     },
     "4cf91e7bd0f4498fb73dab0b12f11555": {
      "model_module": "@jupyter-widgets/controls",
      "model_module_version": "1.5.0",
      "model_name": "HTMLModel",
      "state": {
       "layout": "IPY_MODEL_2217c2ef4fdd43e580079068f0dcec5a",
       "style": "IPY_MODEL_d7a5de61398d4f21b547a0f78a404cc5",
       "value": "100%"
      }
     },
     "52a35573beea4242b41ea09125a928ed": {
      "model_module": "@jupyter-widgets/controls",
      "model_module_version": "1.5.0",
      "model_name": "HTMLModel",
      "state": {
       "layout": "IPY_MODEL_2910168aaff94864b52469a7758bbb69",
       "style": "IPY_MODEL_8e8d8677d8e74aa3a725557efa65a373",
       "value": " 3/3 [00:00&lt;00:00, 42.27it/s]"
      }
     },
     "56bcf85d4f6e4058be8e3c7b8a4af1c8": {
      "model_module": "@jupyter-widgets/controls",
      "model_module_version": "1.5.0",
      "model_name": "ProgressStyleModel",
      "state": {
       "description_width": ""
      }
     },
     "7f30611443e04a839b9ce30b15def4a7": {
      "model_module": "@jupyter-widgets/controls",
      "model_module_version": "1.5.0",
      "model_name": "HBoxModel",
      "state": {
       "children": [
        "IPY_MODEL_4cf91e7bd0f4498fb73dab0b12f11555",
        "IPY_MODEL_bc63206069d640819bb1bc36aaf452f4",
        "IPY_MODEL_52a35573beea4242b41ea09125a928ed"
       ],
       "layout": "IPY_MODEL_86d311979c9d413c8adb4b1082c13ad5"
      }
     },
     "8000cbfd24c542dab18c7e8306970dde": {
      "model_module": "@jupyter-widgets/base",
      "model_module_version": "1.2.0",
      "model_name": "LayoutModel",
      "state": {}
     },
     "86d311979c9d413c8adb4b1082c13ad5": {
      "model_module": "@jupyter-widgets/base",
      "model_module_version": "1.2.0",
      "model_name": "LayoutModel",
      "state": {}
     },
     "8e8d8677d8e74aa3a725557efa65a373": {
      "model_module": "@jupyter-widgets/controls",
      "model_module_version": "1.5.0",
      "model_name": "DescriptionStyleModel",
      "state": {
       "description_width": ""
      }
     },
     "bc63206069d640819bb1bc36aaf452f4": {
      "model_module": "@jupyter-widgets/controls",
      "model_module_version": "1.5.0",
      "model_name": "FloatProgressModel",
      "state": {
       "bar_style": "success",
       "layout": "IPY_MODEL_8000cbfd24c542dab18c7e8306970dde",
       "max": 3,
       "style": "IPY_MODEL_56bcf85d4f6e4058be8e3c7b8a4af1c8",
       "value": 3
      }
     },
     "d7a5de61398d4f21b547a0f78a404cc5": {
      "model_module": "@jupyter-widgets/controls",
      "model_module_version": "1.5.0",
      "model_name": "DescriptionStyleModel",
      "state": {
       "description_width": ""
      }
     }
    },
    "version_major": 2,
    "version_minor": 0
   }
  }
 },
 "nbformat": 4,
 "nbformat_minor": 5
}
